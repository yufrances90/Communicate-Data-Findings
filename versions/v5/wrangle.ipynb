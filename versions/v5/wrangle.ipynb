{
 "cells": [
  {
   "cell_type": "code",
   "execution_count": 1,
   "metadata": {},
   "outputs": [],
   "source": [
    "import numpy as np\n",
    "import pandas as pd\n",
    "import matplotlib.pyplot as plt\n",
    "import seaborn as sns\n",
    "import os\n",
    "import random\n",
    "\n",
    "%matplotlib inline\n",
    "\n",
    "random.seed(30)"
   ]
  },
  {
   "cell_type": "code",
   "execution_count": 2,
   "metadata": {},
   "outputs": [],
   "source": [
    "data_dir = './data'"
   ]
  },
  {
   "cell_type": "code",
   "execution_count": 3,
   "metadata": {},
   "outputs": [],
   "source": [
    "bs_filepath = os.path.join(data_dir, 'austin_bikeshare_stations.csv')\n",
    "bt_filepath = os.path.join(data_dir, 'austin_bikeshare_trips.csv')\n",
    "bw_filepath = os.path.join(data_dir, 'austin_weather.csv')\n",
    "\n",
    "station_df = pd.read_csv(bs_filepath)\n",
    "trip_df = pd.read_csv(bt_filepath)\n",
    "weather_df = pd.read_csv(bw_filepath)"
   ]
  },
  {
   "cell_type": "code",
   "execution_count": 4,
   "metadata": {},
   "outputs": [],
   "source": [
    "trip_df_clean = trip_df.copy()"
   ]
  },
  {
   "cell_type": "code",
   "execution_count": 5,
   "metadata": {},
   "outputs": [],
   "source": [
    "weather_df_clean = weather_df.copy()"
   ]
  },
  {
   "cell_type": "code",
   "execution_count": 6,
   "metadata": {},
   "outputs": [],
   "source": [
    "w_column_map = {\n",
    "    'Date': 'date',\n",
    "    'TempHighF': 'temp_high_F',\n",
    "    'TempAvgF': 'temp_avg_F',\n",
    "    'TempLowF': 'temp_low_F',\n",
    "    'DewPointHighF': 'dew_point_high_F',\n",
    "    'DewPointAvgF': 'dew_point_avg_F',\n",
    "    'DewPointLowF': 'dew_point_low_F',\n",
    "    'HumidityHighPercent': 'humidity_high_percent',\n",
    "    'HumidityAvgPercent': 'humidity_avg_percent',\n",
    "    'HumidityLowPercent': 'humidity_low_percent',\n",
    "    'SeaLevelPressureHighInches': 'sea_level_pressure_high_inches',\n",
    "    'SeaLevelPressureAvgInches': 'sea_level_pressure_avg_inches',\n",
    "    'SeaLevelPressureLowInches': 'sea_level_pressure_low_inches',\n",
    "    'VisibilityHighMiles': 'visiblility_high_miles',\n",
    "    'VisibilityAvgMiles': 'visiblility_avg_miles',\n",
    "    'VisibilityLowMiles': 'visiblility_low_miles',\n",
    "    'WindHighMPH': 'wind_high_MPH',\n",
    "    'WindAvgMPH': 'wind_avg_MPH',\n",
    "    'WindGustMPH': 'wind_low_MPH',\n",
    "    'PrecipitationSumInches': 'precipitaion_sum_inches',\n",
    "    'Events': 'events',\n",
    "}\n",
    "\n",
    "weather_df_clean.rename(columns=w_column_map, inplace=True)"
   ]
  },
  {
   "cell_type": "code",
   "execution_count": 8,
   "metadata": {},
   "outputs": [],
   "source": [
    "trip_df_clean.drop(trip_df_clean[trip_df_clean['subscriber_type'].isnull()].index, inplace=True)"
   ]
  },
  {
   "cell_type": "code",
   "execution_count": 10,
   "metadata": {},
   "outputs": [],
   "source": [
    "trip_df_clean['main_subsciber_type'] = trip_df_clean['subscriber_type'].str.split('(').str[0].str.strip()"
   ]
  },
  {
   "cell_type": "code",
   "execution_count": 11,
   "metadata": {},
   "outputs": [
    {
     "data": {
      "text/plain": [
       "array(['Walk Up', 'Local365', '24-Hour Kiosk', 'Local30', 'Weekender',\n",
       "       'Annual Membership', 'Explorer', '7-Day', 'Semester Membership',\n",
       "       'Local365+Guest Pass', 'Annual', 'Founding Member',\n",
       "       'ACL Weekend Pass Special', 'Local365 Youth with helmet',\n",
       "       'Try Before You Buy Special', '7-Day Membership', 'Republic Rider',\n",
       "       'RideScout Single Ride', '24-Hour-Online', 'Annual Member',\n",
       "       'Annual Plus', 'RESTRICTED', 'Annual Pass',\n",
       "       'FunFunFun Fest 3 Day Pass', 'Local365 Youth',\n",
       "       'Denver B-cycle Founder',\n",
       "       'Membership: pay once  one-year commitment', 'PROHIBITED',\n",
       "       '24-Hour Membership'], dtype=object)"
      ]
     },
     "execution_count": 11,
     "metadata": {},
     "output_type": "execute_result"
    }
   ],
   "source": [
    "trip_df_clean['main_subsciber_type'].unique()"
   ]
  },
  {
   "cell_type": "code",
   "execution_count": null,
   "metadata": {},
   "outputs": [],
   "source": [
    "trip_df_clean.dropna(inplace=True, axis=0)"
   ]
  },
  {
   "cell_type": "code",
   "execution_count": null,
   "metadata": {},
   "outputs": [],
   "source": [
    "rows_to_remove = trip_df_clean.query('year == \"nan\"').index\n",
    "\n",
    "trip_df_clean.drop(rows_to_remove, inplace=True)"
   ]
  },
  {
   "cell_type": "code",
   "execution_count": null,
   "metadata": {},
   "outputs": [],
   "source": [
    "trip_df_clean['year'] = pd.to_numeric(trip_df_clean['year'], downcast='integer')\n",
    "trip_df_clean['month'] = pd.to_numeric(trip_df_clean['month'], downcast='integer')"
   ]
  },
  {
   "cell_type": "code",
   "execution_count": null,
   "metadata": {},
   "outputs": [],
   "source": [
    "trip_df_clean['date'] = trip_df_clean['start_time'].str.split().str[0]\n",
    "trip_df_clean['start_time'] = trip_df_clean['start_time'].str.split().str[1]"
   ]
  },
  {
   "cell_type": "code",
   "execution_count": null,
   "metadata": {},
   "outputs": [],
   "source": [
    "trip_df_clean['start_station_id'] = pd.to_numeric(trip_df_clean['start_station_id'], downcast='integer')\n",
    "trip_df_clean['end_station_id'] = pd.to_numeric(trip_df_clean['end_station_id'], downcast='integer')"
   ]
  },
  {
   "cell_type": "code",
   "execution_count": null,
   "metadata": {},
   "outputs": [],
   "source": [
    "df_final = trip_df_clean.copy()\n",
    "\n",
    "df_final = df_final.merge(weather_df_clean, on='date')"
   ]
  },
  {
   "cell_type": "code",
   "execution_count": null,
   "metadata": {},
   "outputs": [],
   "source": [
    "df = df_final.sample(10000)\n",
    "\n",
    "df = df.sort_index(ascending=True, ignore_index=True)"
   ]
  },
  {
   "cell_type": "code",
   "execution_count": null,
   "metadata": {},
   "outputs": [],
   "source": [
    "df['bikeid'] = pd.to_numeric(df['bikeid'], downcast='integer')\n",
    "\n",
    "df['bikeid'] = df['bikeid'].astype(str)"
   ]
  },
  {
   "cell_type": "code",
   "execution_count": null,
   "metadata": {},
   "outputs": [],
   "source": [
    "master_filepath = os.path.join(data_dir, 'austin_data.csv')\n",
    "\n",
    "df.to_csv(master_filepath, index=True)"
   ]
  },
  {
   "cell_type": "code",
   "execution_count": null,
   "metadata": {},
   "outputs": [],
   "source": []
  }
 ],
 "metadata": {
  "kernelspec": {
   "display_name": "Python 3",
   "language": "python",
   "name": "python3"
  },
  "language_info": {
   "codemirror_mode": {
    "name": "ipython",
    "version": 3
   },
   "file_extension": ".py",
   "mimetype": "text/x-python",
   "name": "python",
   "nbconvert_exporter": "python",
   "pygments_lexer": "ipython3",
   "version": "3.8.3"
  }
 },
 "nbformat": 4,
 "nbformat_minor": 4
}
