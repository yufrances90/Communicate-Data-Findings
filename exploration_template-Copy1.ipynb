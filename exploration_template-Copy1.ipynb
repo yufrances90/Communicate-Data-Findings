{
 "cells": [
  {
   "cell_type": "markdown",
   "metadata": {},
   "source": [
    "# (Dataset Exploration Title)\n",
    "## by (your name here)\n",
    "\n",
    "## Preliminary Wrangling\n",
    "\n",
    "> Briefly introduce your dataset here."
   ]
  },
  {
   "cell_type": "code",
   "execution_count": 1,
   "metadata": {},
   "outputs": [],
   "source": [
    "# import all packages and set plots to be embedded inline\n",
    "import numpy as np\n",
    "import pandas as pd\n",
    "import matplotlib.pyplot as plt\n",
    "import seaborn as sns\n",
    "import os\n",
    "\n",
    "%matplotlib inline"
   ]
  },
  {
   "cell_type": "code",
   "execution_count": 2,
   "metadata": {},
   "outputs": [],
   "source": [
    "data_dir = './data'"
   ]
  },
  {
   "cell_type": "code",
   "execution_count": 3,
   "metadata": {},
   "outputs": [],
   "source": [
    "bs_filepath = os.path.join(data_dir, 'austin_bikeshare_stations.csv')\n",
    "bt_filepath = os.path.join(data_dir, 'austin_bikeshare_trips.csv')\n",
    "bw_filepath = os.path.join(data_dir, 'austin_weather.csv')\n",
    "\n",
    "station_df = pd.read_csv(bs_filepath)\n",
    "trip_df = pd.read_csv(bt_filepath)\n",
    "weather_df = pd.read_csv(bw_filepath)"
   ]
  },
  {
   "cell_type": "markdown",
   "metadata": {},
   "source": [
    "---\n",
    "---"
   ]
  },
  {
   "cell_type": "code",
   "execution_count": 4,
   "metadata": {},
   "outputs": [],
   "source": [
    "trip_df_clean = trip_df.copy()"
   ]
  },
  {
   "cell_type": "code",
   "execution_count": 5,
   "metadata": {},
   "outputs": [],
   "source": [
    "weather_df_clean = weather_df.copy()"
   ]
  },
  {
   "cell_type": "markdown",
   "metadata": {},
   "source": [
    "---"
   ]
  },
  {
   "cell_type": "code",
   "execution_count": 6,
   "metadata": {},
   "outputs": [],
   "source": [
    "w_column_map = {\n",
    "    'Date': 'date',\n",
    "    'TempHighF': 'temp_high_F',\n",
    "    'TempAvgF': 'temp_avg_F',\n",
    "    'TempLowF': 'temp_low_F',\n",
    "    'DewPointHighF': 'dew_point_high_F',\n",
    "    'DewPointAvgF': 'dew_point_avg_F',\n",
    "    'DewPointLowF': 'dew_point_low_F',\n",
    "    'HumidityHighPercent': 'humidity_high_percent',\n",
    "    'HumidityAvgPercent': 'humidity_avg_percent',\n",
    "    'HumidityLowPercent': 'humidity_low_percent',\n",
    "    'SeaLevelPressureHighInches': 'sea_level_pressure_high_inches',\n",
    "    'SeaLevelPressureAvgInches': 'sea_level_pressure_avg_inches',\n",
    "    'SeaLevelPressureLowInches': 'sea_level_pressure_low_inches',\n",
    "    'VisibilityHighMiles': 'visiblility_high_miles',\n",
    "    'VisibilityAvgMiles': 'visiblility_avg_miles',\n",
    "    'VisibilityLowMiles': 'visiblility_low_miles',\n",
    "    'WindHighMPH': 'wind_high_MPH',\n",
    "    'WindAvgMPH': 'wind_avg_MPH',\n",
    "    'WindGustMPH': 'wind_low_MPH',\n",
    "    'PrecipitationSumInches': 'precipitaion_sum_inches',\n",
    "    'Events': 'events',\n",
    "}\n",
    "\n",
    "weather_df_clean.rename(columns=w_column_map, inplace=True)"
   ]
  },
  {
   "cell_type": "markdown",
   "metadata": {},
   "source": [
    "---"
   ]
  },
  {
   "cell_type": "code",
   "execution_count": 7,
   "metadata": {},
   "outputs": [],
   "source": [
    "trip_df_clean.dropna(inplace=True, axis=0)"
   ]
  },
  {
   "cell_type": "code",
   "execution_count": 8,
   "metadata": {},
   "outputs": [],
   "source": [
    "rows_to_remove = trip_df_clean.query('year == \"nan\"').index\n",
    "\n",
    "trip_df_clean.drop(rows_to_remove, inplace=True)"
   ]
  },
  {
   "cell_type": "code",
   "execution_count": 9,
   "metadata": {},
   "outputs": [],
   "source": [
    "trip_df_clean['year'] = pd.to_numeric(trip_df_clean['year'], downcast='integer')\n",
    "trip_df_clean['month'] = pd.to_numeric(trip_df_clean['month'], downcast='integer')"
   ]
  },
  {
   "cell_type": "code",
   "execution_count": 10,
   "metadata": {},
   "outputs": [],
   "source": [
    "trip_df_clean['date'] = trip_df_clean['start_time'].str.split().str[0]\n",
    "trip_df_clean['start_time'] = trip_df_clean['start_time'].str.split().str[1]"
   ]
  },
  {
   "cell_type": "code",
   "execution_count": 11,
   "metadata": {},
   "outputs": [],
   "source": [
    "trip_df_clean['start_station_id'] = pd.to_numeric(trip_df_clean['start_station_id'], downcast='integer')\n",
    "trip_df_clean['end_station_id'] = pd.to_numeric(trip_df_clean['end_station_id'], downcast='integer')"
   ]
  },
  {
   "cell_type": "code",
   "execution_count": 13,
   "metadata": {},
   "outputs": [],
   "source": [
    "df_final = trip_df_clean.copy()\n",
    "\n",
    "df_final = df_final.merge(weather_df_clean, on='date')"
   ]
  },
  {
   "cell_type": "code",
   "execution_count": 14,
   "metadata": {},
   "outputs": [
    {
     "name": "stdout",
     "output_type": "stream",
     "text": [
      "<class 'pandas.core.frame.DataFrame'>\n",
      "Int64Index: 581625 entries, 0 to 581624\n",
      "Data columns (total 33 columns):\n",
      " #   Column                          Non-Null Count   Dtype  \n",
      "---  ------                          --------------   -----  \n",
      " 0   bikeid                          581625 non-null  float64\n",
      " 1   checkout_time                   581625 non-null  object \n",
      " 2   duration_minutes                581625 non-null  int64  \n",
      " 3   end_station_id                  581625 non-null  int16  \n",
      " 4   end_station_name                581625 non-null  object \n",
      " 5   month                           581625 non-null  int8   \n",
      " 6   start_station_id                581625 non-null  int16  \n",
      " 7   start_station_name              581625 non-null  object \n",
      " 8   start_time                      581625 non-null  object \n",
      " 9   subscriber_type                 581625 non-null  object \n",
      " 10  trip_id                         581625 non-null  int64  \n",
      " 11  year                            581625 non-null  int16  \n",
      " 12  date                            581625 non-null  object \n",
      " 13  temp_high_F                     581625 non-null  int64  \n",
      " 14  temp_avg_F                      581625 non-null  int64  \n",
      " 15  temp_low_F                      581625 non-null  int64  \n",
      " 16  dew_point_high_F                581625 non-null  object \n",
      " 17  dew_point_avg_F                 581625 non-null  object \n",
      " 18  dew_point_low_F                 581625 non-null  object \n",
      " 19  humidity_high_percent           581625 non-null  object \n",
      " 20  humidity_avg_percent            581625 non-null  object \n",
      " 21  humidity_low_percent            581625 non-null  object \n",
      " 22  sea_level_pressure_high_inches  581625 non-null  object \n",
      " 23  sea_level_pressure_avg_inches   581625 non-null  object \n",
      " 24  sea_level_pressure_low_inches   581625 non-null  object \n",
      " 25  visiblility_high_miles          581625 non-null  object \n",
      " 26  visiblility_avg_miles           581625 non-null  object \n",
      " 27  visiblility_low_miles           581625 non-null  object \n",
      " 28  wind_high_MPH                   581625 non-null  object \n",
      " 29  wind_avg_MPH                    581625 non-null  object \n",
      " 30  wind_low_MPH                    581625 non-null  object \n",
      " 31  precipitaion_sum_inches         581625 non-null  object \n",
      " 32  events                          581625 non-null  object \n",
      "dtypes: float64(1), int16(3), int64(5), int8(1), object(23)\n",
      "memory usage: 137.0+ MB\n"
     ]
    }
   ],
   "source": [
    "df_final.info()"
   ]
  },
  {
   "cell_type": "code",
   "execution_count": 20,
   "metadata": {},
   "outputs": [],
   "source": [
    "df = df_final.sample(10000)"
   ]
  },
  {
   "cell_type": "code",
   "execution_count": 21,
   "metadata": {},
   "outputs": [
    {
     "data": {
      "text/plain": [
       "array(['2016-01-23', '2015-02-13', '2015-08-18', ..., '2014-01-12',\n",
       "       '2015-01-05', '2015-01-22'], dtype=object)"
      ]
     },
     "execution_count": 21,
     "metadata": {},
     "output_type": "execute_result"
    }
   ],
   "source": [
    "df['date'].unique()"
   ]
  },
  {
   "cell_type": "markdown",
   "metadata": {},
   "source": [
    "---\n",
    "---"
   ]
  },
  {
   "cell_type": "markdown",
   "metadata": {},
   "source": [
    "### What is the structure of your dataset?\n",
    "\n",
    "> Your answer here!\n",
    "\n",
    "### What is/are the main feature(s) of interest in your dataset?\n",
    "\n",
    "> Your answer here!\n",
    "\n",
    "### What features in the dataset do you think will help support your investigation into your feature(s) of interest?\n",
    "\n",
    "> Your answer here!"
   ]
  },
  {
   "cell_type": "markdown",
   "metadata": {},
   "source": [
    "## Univariate Exploration\n",
    "\n",
    "> In this section, investigate distributions of individual variables. If\n",
    "you see unusual points or outliers, take a deeper look to clean things up\n",
    "and prepare yourself to look at relationships between variables."
   ]
  },
  {
   "cell_type": "code",
   "execution_count": null,
   "metadata": {},
   "outputs": [],
   "source": []
  },
  {
   "cell_type": "markdown",
   "metadata": {},
   "source": [
    "> Make sure that, after every plot or related series of plots, that you\n",
    "include a Markdown cell with comments about what you observed, and what\n",
    "you plan on investigating next."
   ]
  },
  {
   "cell_type": "code",
   "execution_count": null,
   "metadata": {},
   "outputs": [],
   "source": []
  },
  {
   "cell_type": "markdown",
   "metadata": {},
   "source": [
    "### Discuss the distribution(s) of your variable(s) of interest. Were there any unusual points? Did you need to perform any transformations?\n",
    "\n",
    "> Your answer here!\n",
    "\n",
    "### Of the features you investigated, were there any unusual distributions? Did you perform any operations on the data to tidy, adjust, or change the form of the data? If so, why did you do this?\n",
    "\n",
    "> Your answer here!"
   ]
  },
  {
   "cell_type": "markdown",
   "metadata": {},
   "source": [
    "## Bivariate Exploration\n",
    "\n",
    "> In this section, investigate relationships between pairs of variables in your\n",
    "data. Make sure the variables that you cover here have been introduced in some\n",
    "fashion in the previous section (univariate exploration)."
   ]
  },
  {
   "cell_type": "code",
   "execution_count": null,
   "metadata": {},
   "outputs": [],
   "source": []
  },
  {
   "cell_type": "markdown",
   "metadata": {},
   "source": [
    "### Talk about some of the relationships you observed in this part of the investigation. How did the feature(s) of interest vary with other features in the dataset?\n",
    "\n",
    "> Your answer here!\n",
    "\n",
    "### Did you observe any interesting relationships between the other features (not the main feature(s) of interest)?\n",
    "\n",
    "> Your answer here!"
   ]
  },
  {
   "cell_type": "markdown",
   "metadata": {},
   "source": [
    "## Multivariate Exploration\n",
    "\n",
    "> Create plots of three or more variables to investigate your data even\n",
    "further. Make sure that your investigations are justified, and follow from\n",
    "your work in the previous sections."
   ]
  },
  {
   "cell_type": "code",
   "execution_count": null,
   "metadata": {},
   "outputs": [],
   "source": []
  },
  {
   "cell_type": "markdown",
   "metadata": {},
   "source": [
    "### Talk about some of the relationships you observed in this part of the investigation. Were there features that strengthened each other in terms of looking at your feature(s) of interest?\n",
    "\n",
    "> Your answer here!\n",
    "\n",
    "### Were there any interesting or surprising interactions between features?\n",
    "\n",
    "> Your answer here!"
   ]
  },
  {
   "cell_type": "markdown",
   "metadata": {},
   "source": [
    "> At the end of your report, make sure that you export the notebook as an\n",
    "html file from the `File > Download as... > HTML` menu. Make sure you keep\n",
    "track of where the exported file goes, so you can put it in the same folder\n",
    "as this notebook for project submission. Also, make sure you remove all of\n",
    "the quote-formatted guide notes like this one before you finish your report!"
   ]
  },
  {
   "cell_type": "code",
   "execution_count": null,
   "metadata": {},
   "outputs": [],
   "source": []
  }
 ],
 "metadata": {
  "kernelspec": {
   "display_name": "Python 3",
   "language": "python",
   "name": "python3"
  },
  "language_info": {
   "codemirror_mode": {
    "name": "ipython",
    "version": 3
   },
   "file_extension": ".py",
   "mimetype": "text/x-python",
   "name": "python",
   "nbconvert_exporter": "python",
   "pygments_lexer": "ipython3",
   "version": "3.8.3"
  }
 },
 "nbformat": 4,
 "nbformat_minor": 2
}
